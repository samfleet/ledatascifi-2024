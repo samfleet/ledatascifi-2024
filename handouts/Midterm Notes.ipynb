{
 "cells": [
  {
   "cell_type": "code",
   "execution_count": null,
   "id": "e1f049dd-6f6a-426d-94c2-b9fd5c30a4b4",
   "metadata": {},
   "outputs": [],
   "source": [
    "import pandas as pd\n",
    "import os\n",
    "\n",
    "#path and place to put it\n",
    "sp500_file = (input csv url)\n",
    "os.makedirs(sp500_file.split('/')"
   ]
  },
  {
   "cell_type": "code",
   "execution_count": null,
   "id": "87cc5eaa-60ad-4997-aec1-c5f17dc6f638",
   "metadata": {},
   "outputs": [],
   "source": []
  }
 ],
 "metadata": {
  "kernelspec": {
   "display_name": "Python 3 (ipykernel)",
   "language": "python",
   "name": "python3"
  },
  "language_info": {
   "codemirror_mode": {
    "name": "ipython",
    "version": 3
   },
   "file_extension": ".py",
   "mimetype": "text/x-python",
   "name": "python",
   "nbconvert_exporter": "python",
   "pygments_lexer": "ipython3",
   "version": "3.11.7"
  }
 },
 "nbformat": 4,
 "nbformat_minor": 5
}
